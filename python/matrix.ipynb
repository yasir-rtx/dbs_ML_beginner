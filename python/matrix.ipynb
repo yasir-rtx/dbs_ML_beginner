{
 "cells": [
  {
   "cell_type": "code",
   "execution_count": 1,
   "metadata": {},
   "outputs": [],
   "source": [
    "import numpy as np"
   ]
  },
  {
   "cell_type": "code",
   "execution_count": 2,
   "metadata": {},
   "outputs": [
    {
     "name": "stdout",
     "output_type": "stream",
     "text": [
      "[[1 2 3]\n",
      " [4 5 6]\n",
      " [7 8 9]]\n"
     ]
    }
   ],
   "source": [
    "matriks = np.array([[1, 2, 3], [4, 5, 6], [7, 8 ,9]])\n",
    "print(matriks)"
   ]
  },
  {
   "cell_type": "code",
   "execution_count": 8,
   "metadata": {},
   "outputs": [
    {
     "name": "stdout",
     "output_type": "stream",
     "text": [
      "[[ 2  4  6]\n",
      " [ 8 10 12]\n",
      " [14 16 18]]\n"
     ]
    }
   ],
   "source": [
    "matriks = matriks . 2\n",
    "print(matriks)"
   ]
  },
  {
   "cell_type": "code",
   "execution_count": 6,
   "metadata": {},
   "outputs": [
    {
     "name": "stdout",
     "output_type": "stream",
     "text": [
      "Ukuran keseluruhan elemen list dalam bytes =  240\n",
      "Ukuran keseluruhan elemen NumPy dalam bytes =  72\n"
     ]
    }
   ],
   "source": [
    "# Perbandingan ukuran memori matrix python dengan matrix numpy\n",
    "import sys\n",
    "\n",
    "try:\n",
    "    var_list= [[1, 2, 3], [4, 5, 6], [7, 8, 9]]\n",
    "    var_array= np.array([[1, 2, 3], [4, 5, 6], [7, 8 ,9]])\n",
    "\n",
    "    print(\"Ukuran keseluruhan elemen list dalam bytes = \",sys.getsizeof(var_list)*len(var_list))\n",
    "    print(\"Ukuran keseluruhan elemen NumPy dalam bytes = \", var_array.size*var_array.itemsize)\n",
    "except NameError:\n",
    "    print(\"Ada variabel yang belum didefinisikan\")"
   ]
  }
 ],
 "metadata": {
  "kernelspec": {
   "display_name": "Python 3",
   "language": "python",
   "name": "python3"
  },
  "language_info": {
   "codemirror_mode": {
    "name": "ipython",
    "version": 3
   },
   "file_extension": ".py",
   "mimetype": "text/x-python",
   "name": "python",
   "nbconvert_exporter": "python",
   "pygments_lexer": "ipython3",
   "version": "3.10.12"
  }
 },
 "nbformat": 4,
 "nbformat_minor": 2
}
