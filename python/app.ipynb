{
 "cells": [
  {
   "cell_type": "markdown",
   "metadata": {},
   "source": [
    "# Varible\n",
    "\n",
    "Definisi dari variabel merujuk kepada lokasi dalam komputer yang digunakan untuk menyimpan nilai dengan tipe data tertentu. "
   ]
  },
  {
   "cell_type": "code",
   "execution_count": 1,
   "metadata": {},
   "outputs": [],
   "source": [
    "num = 1"
   ]
  },
  {
   "cell_type": "markdown",
   "metadata": {},
   "source": [
    "## Assigment\n",
    "\n",
    "Assignment merupakan proses pemberian atau penetapan nilai pada sebuah variabel."
   ]
  },
  {
   "cell_type": "code",
   "execution_count": 2,
   "metadata": {},
   "outputs": [],
   "source": [
    "# nama_variable = value_variable\n",
    "name = 'yasir'"
   ]
  },
  {
   "attachments": {
    "image.png": {
     "image/png": "[encoded data removed]"
    }
   },
   "cell_type": "markdown",
   "metadata": {},
   "source": [
    "## Deklarasi\n",
    "\n",
    "Deklarasi merujuk pada pembuatan variabel dengan menentukan tipe data dan nama variabelnya.\n",
    "\n",
    "![image.png](attachment:image.png)"
   ]
  },
  {
   "attachments": {
    "image.png": {
     "image/png": "[encoded data removed]"
    }
   },
   "cell_type": "markdown",
   "metadata": {},
   "source": [
    "## Inisialisasi\n",
    "inisialisasi merujuk kepada pemberian nilai awal pada variabel yang sebelumnya telah dideklarasikan.\n",
    "\n",
    "![image.png](attachment:image.png)"
   ]
  },
  {
   "cell_type": "markdown",
   "metadata": {},
   "source": [
    "# Input/Output"
   ]
  },
  {
   "cell_type": "markdown",
   "metadata": {},
   "source": [
    "## Input\n",
    "Untuk memungkinkan pengguna memberikan masukan, Anda dapat menggunakan perintah input()"
   ]
  },
  {
   "cell_type": "code",
   "execution_count": 3,
   "metadata": {},
   "outputs": [],
   "source": [
    "nama = input(\"Input your name : \")"
   ]
  },
  {
   "cell_type": "markdown",
   "metadata": {},
   "source": [
    "## Output\n",
    "Fungsi print() yang sebelumnya Anda gunakan adalah perintah untuk menampilkan output ke layar komputer Anda."
   ]
  },
  {
   "cell_type": "code",
   "execution_count": 4,
   "metadata": {},
   "outputs": [
    {
     "name": "stdout",
     "output_type": "stream",
     "text": [
      "Your name is : Yasir\n"
     ]
    }
   ],
   "source": [
    "\n",
    "print(\"Your name is :\", nama)"
   ]
  },
  {
   "cell_type": "markdown",
   "metadata": {},
   "source": [
    "# Comment"
   ]
  },
  {
   "cell_type": "markdown",
   "metadata": {},
   "source": [
    "## Inline Comment\n",
    "Inline comment pada Python merupakan komentar yang biasanya diletakkan pada baris yang sama dengan kode atau satu baris sebelum kode.\n"
   ]
  },
  {
   "cell_type": "code",
   "execution_count": 5,
   "metadata": {},
   "outputs": [],
   "source": [
    "# Variabel ini menyimpan nama 'Yasir'\n",
    "name = 'Yasir'"
   ]
  },
  {
   "cell_type": "markdown",
   "metadata": {},
   "source": [
    "## Block Comment\n",
    "block comment merupakan satu blok kode dengan tujuan menjelaskan kode kompleks atau membuat dokumentasi dari sebuah fungsi atau modul.  "
   ]
  },
  {
   "cell_type": "code",
   "execution_count": null,
   "metadata": {},
   "outputs": [],
   "source": [
    "\"\"\"\n",
    "Ini adalah Block Comment,\n",
    "Teks ini akan diabaikan oleh Python.\n",
    "\"\"\""
   ]
  },
  {
   "cell_type": "code",
   "execution_count": 6,
   "metadata": {},
   "outputs": [
    {
     "name": "stdout",
     "output_type": "stream",
     "text": [
      "<class 'int'>\n",
      "<class 'float'>\n"
     ]
    }
   ],
   "source": [
    "age = 17\n",
    "salary = 5000000.0\n",
    "\n",
    "# type() => fungsi yang mengembalikan tipe nilai dari sebuah variabel\n",
    "print(type(age))\n",
    "print(type(salary))"
   ]
  },
  {
   "cell_type": "markdown",
   "metadata": {},
   "source": [
    "# Tipe Data"
   ]
  },
  {
   "cell_type": "code",
   "execution_count": 12,
   "metadata": {},
   "outputs": [
    {
     "name": "stdout",
     "output_type": "stream",
     "text": [
      "10\n",
      "140263943750160\n",
      "11\n",
      "140263943750192\n"
     ]
    }
   ],
   "source": [
    "# melihat alamat memori (memory address) dari variabel “var” yang pertama dan yang kedua menggunakan fungsi “id()”\n",
    "var = 10\n",
    "print(var)\n",
    "print(id(var))\n",
    "var = 11\n",
    "print(var)\n",
    "print(id(var))"
   ]
  },
  {
   "cell_type": "markdown",
   "metadata": {},
   "source": [
    "## String"
   ]
  },
  {
   "cell_type": "code",
   "execution_count": 14,
   "metadata": {},
   "outputs": [
    {
     "name": "stdout",
     "output_type": "stream",
     "text": [
      "Hello, nama saya Perseus Evans\n"
     ]
    }
   ],
   "source": [
    "# Formatted String\n",
    "name = \"Perseus Evans\"\n",
    "print(f\"Hello, nama saya {name}\")"
   ]
  },
  {
   "cell_type": "code",
   "execution_count": 15,
   "metadata": {},
   "outputs": [
    {
     "name": "stdout",
     "output_type": "stream",
     "text": [
      "Nama saya Perseus Evans\n"
     ]
    }
   ],
   "source": [
    "# %-formatting\n",
    "name = \"Perseus Evans\"\n",
    "print(\"Nama saya %s\" % (name))"
   ]
  },
  {
   "cell_type": "code",
   "execution_count": 16,
   "metadata": {},
   "outputs": [
    {
     "name": "stdout",
     "output_type": "stream",
     "text": [
      "Nama saya Perseus Evans 24\n"
     ]
    }
   ],
   "source": [
    "# str.format()\n",
    "name = \"Perseus Evans\"\n",
    "age = 24\n",
    "print(\"Nama saya {} {}\".format(name, age))"
   ]
  },
  {
   "cell_type": "markdown",
   "metadata": {},
   "source": [
    "# Tipe Data Collection"
   ]
  },
  {
   "cell_type": "markdown",
   "metadata": {},
   "source": [
    "## List\n",
    "List merupakan jenis kumpulan data terurut (ordered sequence) dan salah satu tipe data yang sering digunakan pada Python."
   ]
  },
  {
   "cell_type": "code",
   "execution_count": 24,
   "metadata": {},
   "outputs": [
    {
     "name": "stdout",
     "output_type": "stream",
     "text": [
      "Tipe data variabel : <class 'list'>\n",
      "True\n",
      "Yasir\n"
     ]
    }
   ],
   "source": [
    "# Inisiasi List\n",
    "list_name = []\n",
    "\n",
    "# List mampu menyimpan berbagai jenis tipe data\n",
    "list_name = [1, \"Yasir\", True, 1.0]\n",
    "\n",
    "print(f\"Tipe data variabel : {type(list_name)}\")\n",
    "\n",
    "# Indexing pada List\n",
    "print(list_name[2])\n",
    "print(list_name[-3])"
   ]
  },
  {
   "cell_type": "markdown",
   "metadata": {},
   "source": [
    "## Tuple\n",
    "Tuple adalah jenis dari list yang tidak dapat diubah elemennya. Umumnya, tuple digunakan untuk data yang bersifat sekali deklarasi dan dapat dieksekusi lebih cepat."
   ]
  },
  {
   "cell_type": "code",
   "execution_count": 36,
   "metadata": {},
   "outputs": [
    {
     "name": "stdout",
     "output_type": "stream",
     "text": [
      "Tipe data variabel : <class 'tuple'>\n",
      "\n",
      "program\n",
      "(5, 'program', (1+3j))\n"
     ]
    }
   ],
   "source": [
    "# Inisiasi tuple\n",
    "tuple_name = ()\n",
    "\n",
    "print(f\"Tipe data variabel : {type(tuple_name)}\\n\")\n",
    "\n",
    "# Indexing dan slicing\n",
    "x = (5, 'program', 1+3j)\n",
    "print(x[1])\n",
    "print(x[0:3])"
   ]
  },
  {
   "cell_type": "markdown",
   "metadata": {},
   "source": [
    "## Set\n",
    "Set adalah kumpulan item bersifat unik, tanpa urutan (unordered collection) atau tidak memiliki index"
   ]
  },
  {
   "cell_type": "code",
   "execution_count": 6,
   "metadata": {},
   "outputs": [
    {
     "name": "stdout",
     "output_type": "stream",
     "text": [
      "Tipe data variabel : <class 'set'>\n",
      "\n",
      "{100, 'Yasir'}\n"
     ]
    }
   ],
   "source": [
    "# inisiasi set\n",
    "set_name = {}\n",
    "\n",
    "set_name = {\"Yasir\", 100}\n",
    "\n",
    "print(f\"Tipe data variabel : {type(set_name)}\\n\")\n",
    "\n",
    "print(set_name)"
   ]
  },
  {
   "cell_type": "markdown",
   "metadata": {},
   "source": [
    "## Dictionary\n",
    "Dictionary pada Python merupakan kumpulan pasangan key-value yang bersifat tidak berurutan."
   ]
  },
  {
   "cell_type": "code",
   "execution_count": 21,
   "metadata": {},
   "outputs": [
    {
     "name": "stdout",
     "output_type": "stream",
     "text": [
      "{'name': 'Yasir', 'age': 24, 'isMarried': False} \n",
      "\n",
      "{'name': 'Yasir', 'age': 24, 'isMarried': False, 'class': 'Releaser'} \n",
      "\n",
      "{'name': 'Yasir', 'age': 24, 'class': 'Releaser'} \n",
      "\n",
      "{'name': 'Yindalf', 'age': 24, 'class': 'Releaser'} \n",
      "\n"
     ]
    }
   ],
   "source": [
    "user = {\n",
    "    \"name\" : \"Yasir\",\n",
    "    \"age\" : 24,\n",
    "    \"isMarried\" : False\n",
    "}\n",
    "print(user,\"\\n\")\n",
    "\n",
    "# Menambah Data pada Dictionary\n",
    "user[\"class\"] = \"Releaser\"\n",
    "print(user,\"\\n\")\n",
    "\n",
    "# Menghapus Data pada Dictionary\n",
    "del user[\"isMarried\"]\n",
    "print(user,\"\\n\")\n",
    "\n",
    "# Mengubah Data pada Dictionary\n",
    "user[\"name\"] = \"Yindalf\"\n",
    "print(user,\"\\n\")"
   ]
  },
  {
   "cell_type": "code",
   "execution_count": 15,
   "metadata": {},
   "outputs": [
    {
     "name": "stdout",
     "output_type": "stream",
     "text": [
      "{'name': 'Ririn', 'age': 22, 'isMarried': False}\n"
     ]
    }
   ],
   "source": [
    "users = [\n",
    "    {\n",
    "        \"name\" : \"Yasir\",\n",
    "        \"age\" : 24,\n",
    "        \"isMarried\" : False\n",
    "    },\n",
    "    {\n",
    "        \"name\" : \"Ririn\",\n",
    "        \"age\" : 22,\n",
    "        \"isMarried\" : False\n",
    "    }\n",
    "]\n",
    "print(users[1])"
   ]
  },
  {
   "cell_type": "markdown",
   "metadata": {},
   "source": [
    "# Konversi tipe data"
   ]
  },
  {
   "cell_type": "code",
   "execution_count": 22,
   "metadata": {},
   "outputs": [
    {
     "name": "stdout",
     "output_type": "stream",
     "text": [
      "25\n",
      "25\n",
      "25.0\n",
      "25.6\n",
      "{1, 2, 3}\n",
      "(5, 6, 7)\n",
      "['h', 'e', 'l', 'l', 'o']\n"
     ]
    }
   ],
   "source": [
    "print(int(\"25\"))\n",
    "print(str(25))\n",
    "print(float(\"25\"))\n",
    "print(str(25.6))\n",
    "print(set([1,2,3]))\n",
    "print(tuple({5,6,7}))\n",
    "print(list('hello'))"
   ]
  },
  {
   "cell_type": "markdown",
   "metadata": {},
   "source": [
    "# Transformasi Angka, Karakter, dan String"
   ]
  },
  {
   "cell_type": "code",
   "execution_count": 2,
   "metadata": {},
   "outputs": [
    {
     "name": "stdout",
     "output_type": "stream",
     "text": [
      "DICODING\n",
      "dicoding\n",
      "Dicoding\n",
      "Dicoding\n",
      "Dicoding\n",
      "Dicoding Indonesia !\n",
      "['Dicoding', 'Indonesia', '!']\n"
     ]
    }
   ],
   "source": [
    "# upper()\n",
    "kata = 'dicoding'\n",
    "kata = kata.upper()\n",
    "print(kata)\n",
    "\n",
    "# lower()\n",
    "kata = 'DICODING'\n",
    "kata = kata.lower()\n",
    "print(kata)\n",
    "\n",
    "# rstrip()\n",
    "print(\"Dicoding          \".rstrip())\n",
    "\n",
    "# lstrip()\n",
    "print(\"           Dicoding\".lstrip())\n",
    "\n",
    "# strip()\n",
    "print(\"         Dicoding          \".strip())\n",
    "\n",
    "# join()\n",
    "print(' '.join(['Dicoding','Indonesia', '!']))\n",
    "\n",
    "# split()\n",
    "print('Dicoding Indonesia !'.split())\n",
    "\n",
    "# replace()\n",
    "string = \"Ayo belajar Coding di Dicoding\"\n",
    "print(string.replace(\"Coding\", \"Pemrograman\"))"
   ]
  },
  {
   "cell_type": "markdown",
   "metadata": {},
   "source": [
    "## String Literals\n",
    "* \\\\' Single quote\n",
    "* \\\\\" Double quote\n",
    "* \\\\t Tab\n",
    "* \\\\n Newline (line break)\n",
    "* \\\\\\ Backslash"
   ]
  },
  {
   "cell_type": "markdown",
   "metadata": {},
   "source": [
    "## Raw String\n",
    "Untuk mengimplementasikan raw strings, sisipkan huruf r sebelum pembuka string."
   ]
  },
  {
   "cell_type": "code",
   "execution_count": null,
   "metadata": {},
   "outputs": [],
   "source": [
    "print(r'Dicoding\\tIndonesia')"
   ]
  },
  {
   "cell_type": "markdown",
   "metadata": {},
   "source": [
    "# Operasi pada List, Set, dan String"
   ]
  },
  {
   "cell_type": "code",
   "execution_count": 7,
   "metadata": {},
   "outputs": [
    {
     "name": "stdout",
     "output_type": "stream",
     "text": [
      "9\n",
      "5\n",
      "96\n",
      "3\n",
      "True\n",
      "False\n",
      "False\n",
      "True\n",
      "['helikopter', 'mobil', 'motor', 'pesawat']\n"
     ]
    }
   ],
   "source": [
    "# len()\n",
    "contoh_list = [1, 3, 3, 5, 5, 5, 7, 7, 9]\n",
    "print(len(contoh_list))\n",
    "\n",
    "# min() dan max()\n",
    "angka = [13, 7, 24, 5, 96, 84, 71, 11, 38]\n",
    "print(min(angka))\n",
    "print(max(angka))\n",
    "\n",
    "# count()\n",
    "genap = [2, 4, 4, 6, 6, 6, 8, 10, 10]\n",
    "print(genap.count(6))\n",
    "\n",
    "# in / not in\n",
    "kalimat = \"Belajar Python di Dicoding sangat menyenangkan\"\n",
    "print('Dicoding' in kalimat)\n",
    "print('tidak' in kalimat)\n",
    "print('Dicoding' not in kalimat)\n",
    "print('tidak' not in kalimat)\n",
    "\n",
    "# sort()\n",
    "kendaraan = ['motor', 'mobil', 'helikopter', 'pesawat']\n",
    "kendaraan.sort()\n",
    "print(kendaraan)"
   ]
  },
  {
   "cell_type": "markdown",
   "metadata": {},
   "source": [
    "## Memberikan Nilai untuk Multiple Variable"
   ]
  },
  {
   "cell_type": "code",
   "execution_count": null,
   "metadata": {},
   "outputs": [],
   "source": [
    "# umum \n",
    "data = ['shirt', 'white', 'L']\n",
    "apparel = data[0]\n",
    "color = data[1]\n",
    "size = data[2]"
   ]
  },
  {
   "cell_type": "code",
   "execution_count": null,
   "metadata": {},
   "outputs": [],
   "source": [
    "# python\n",
    "data = ['shirt', 'white', 'L']\n",
    "apparel, color, size = data"
   ]
  },
  {
   "cell_type": "code",
   "execution_count": 19,
   "metadata": {},
   "outputs": [
    {
     "name": "stdout",
     "output_type": "stream",
     "text": [
      "Bilangan negatif tidak diperbolehkan\n"
     ]
    }
   ],
   "source": [
    "var = -1\n",
    "try:\n",
    "    if var < 0:\n",
    "        raise ValueError(\"Bilangan negatif tidak diperbolehkan\")\n",
    "    else:\n",
    "        for i in range(var):\n",
    "            print(i+1)\n",
    "except ValueError:\n",
    "    print(\"Bilangan negatif tidak diperbolehkan\")"
   ]
  },
  {
   "cell_type": "code",
   "execution_count": 23,
   "metadata": {},
   "outputs": [
    {
     "name": "stdout",
     "output_type": "stream",
     "text": [
      "0\n",
      "1\n",
      "2\n",
      "3\n",
      "4\n",
      "5\n",
      "6\n",
      "7\n",
      "8\n",
      "9\n"
     ]
    }
   ],
   "source": [
    "for i in range(10): print(i)"
   ]
  }
 ],
 "metadata": {
  "kernelspec": {
   "display_name": "Python 3",
   "language": "python",
   "name": "python3"
  },
  "language_info": {
   "codemirror_mode": {
    "name": "ipython",
    "version": 3
   },
   "file_extension": ".py",
   "mimetype": "text/x-python",
   "name": "python",
   "nbconvert_exporter": "python",
   "pygments_lexer": "ipython3",
   "version": "3.10.12"
  }
 },
 "nbformat": 4,
 "nbformat_minor": 2
}
